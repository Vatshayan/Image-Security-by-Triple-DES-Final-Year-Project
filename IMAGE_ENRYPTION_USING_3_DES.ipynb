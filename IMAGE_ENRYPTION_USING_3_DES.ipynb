{
  "nbformat": 4,
  "nbformat_minor": 0,
  "metadata": {
    "colab": {
      "name": "IMAGE_ENRYPTION USING 3 DES.ipynb",
      "provenance": [],
      "collapsed_sections": []
    },
    "kernelspec": {
      "name": "python3",
      "display_name": "Python 3"
    },
    "language_info": {
      "name": "python"
    }
  },
  "cells": [
    {
      "cell_type": "markdown",
      "metadata": {
        "id": "mf5EBVdo1syE"
      },
      "source": [
        "**IMAGE SECURITY SYSTEM FOR ARMY, POLICE & SECURE COMMUNICATION**"
      ]
    },
    {
      "cell_type": "markdown",
      "metadata": {
        "id": "ieZ0Wb_r1ZTx"
      },
      "source": [
        "**IMAGE ENCRYPTION & DECRYPTION USING TRIPLE DES**"
      ]
    },
    {
      "cell_type": "markdown",
      "metadata": {
        "id": "sqibPhOX1lZj"
      },
      "source": [
        "**LOAD LIBRARIES**"
      ]
    },
    {
      "cell_type": "code",
      "metadata": {
        "colab": {
          "base_uri": "https://localhost:8080/"
        },
        "id": "Nnf4E_V10yXn",
        "outputId": "60559f2a-0473-40ac-aaf1-dcc67d0cf3a9"
      },
      "source": [
        "%pylab inline\n",
        "import matplotlib.pyplot as plt\n",
        "import matplotlib.image as mpimg\n",
        "import io\n",
        "!pip install pyDes\n",
        "from pyDes import *"
      ],
      "execution_count": 1,
      "outputs": [
        {
          "output_type": "stream",
          "text": [
            "Populating the interactive namespace from numpy and matplotlib\n",
            "Collecting pyDes\n",
            "  Downloading https://files.pythonhosted.org/packages/92/5e/0075a35ea5d307a182b0963900298b209ea2f363ccdd5a27e8cb04c58410/pyDes-2.0.1.tar.gz\n",
            "Building wheels for collected packages: pyDes\n",
            "  Building wheel for pyDes (setup.py) ... \u001b[?25l\u001b[?25hdone\n",
            "  Created wheel for pyDes: filename=pyDes-2.0.1-py2.py3-none-any.whl size=9548 sha256=0c0e84d0cbb3ca775dcc5cd1e16b3b8392b29ed5ac71063e5b9a304f853f3bdc\n",
            "  Stored in directory: /root/.cache/pip/wheels/8d/ff/d6/b38861c6a8fb5807fcd62e520d4d018caca96c8c3c645e47ec\n",
            "Successfully built pyDes\n",
            "Installing collected packages: pyDes\n",
            "Successfully installed pyDes-2.0.1\n"
          ],
          "name": "stdout"
        }
      ]
    },
    {
      "cell_type": "markdown",
      "metadata": {
        "id": "tV3LJ09-2GjB"
      },
      "source": [
        "DEFINE FUNCTION"
      ]
    },
    {
      "cell_type": "code",
      "metadata": {
        "id": "SjgxFYGD1Ova"
      },
      "source": [
        "# Function to Display Image\n",
        "def imgdis(path):\n",
        "  \"\"\"\n",
        "  Function to display an image.\n",
        "  Parameter : Path of image file\n",
        "  \"\"\"\n",
        "  img = mpimg.imread(path)\n",
        "  imgplot = plt.imshow(img)\n",
        "  plt.show()"
      ],
      "execution_count": 2,
      "outputs": []
    },
    {
      "cell_type": "markdown",
      "metadata": {
        "id": "Ho3YER_q2TjM"
      },
      "source": [
        "ENCRYPTION USING TRIPLE DES"
      ]
    },
    {
      "cell_type": "code",
      "metadata": {
        "id": "PT2mWZ-j1Vt1"
      },
      "source": [
        "# Function to Encrypt an File with Triple DES\n",
        "def encrypt(key, path, output = 'Encrypted'):\n",
        "  \"\"\"\n",
        "  Function to Encrypt an File with Triple DES\n",
        "\n",
        "  Parameters :  path, key, output;\n",
        "\n",
        "  Key  : Takes a Key for the Encryption Process.\n",
        "  Path : Takes Absolute or Relative Path of File as Input.\n",
        "  Output : Takes Absolute or Relative Path of File as Output.\n",
        "\n",
        "  Returns : An Encrypted File.\n",
        "  \"\"\""
      ],
      "execution_count": 3,
      "outputs": []
    },
    {
      "cell_type": "code",
      "metadata": {
        "id": "6nWW0STL2aRY"
      },
      "source": [
        ""
      ],
      "execution_count": null,
      "outputs": []
    },
    {
      "cell_type": "code",
      "metadata": {
        "id": "oPsZjKYp30VW"
      },
      "source": [
        ""
      ],
      "execution_count": null,
      "outputs": []
    },
    {
      "cell_type": "code",
      "metadata": {
        "id": "tAIPHKrA30N8"
      },
      "source": [
        ""
      ],
      "execution_count": null,
      "outputs": []
    },
    {
      "cell_type": "code",
      "metadata": {
        "id": "y3EqqBOR30CI"
      },
      "source": [
        ""
      ],
      "execution_count": null,
      "outputs": []
    },
    {
      "cell_type": "markdown",
      "metadata": {
        "id": "GR8lM3CW2avl"
      },
      "source": [
        "WAIT !!!\n",
        "\n",
        "\n",
        "---\n",
        "\n",
        "\n",
        "\n",
        "Project Code is longer it involves many step for Encryption and \n",
        "Decryption for Image. \n",
        "\n",
        "It's Top Class Projects.\n",
        "\n",
        "\n",
        "---\n",
        "\n",
        "\n",
        "\n",
        "## Mail me at **vatshayan007@gmail.com** for Full Project Code with Project Report and PPT"
      ]
    },
    {
      "cell_type": "markdown",
      "metadata": {
        "id": "o0vKrGzg2wKQ"
      },
      "source": [
        "Mail me for any kind of Help in Projects."
      ]
    },
    {
      "cell_type": "markdown",
      "metadata": {
        "id": "QERvGNzx26EI"
      },
      "source": [
        "\n",
        "# Mail me at **vatshayan007@gmail.com** Now for Projects\n"
      ]
    },
    {
      "cell_type": "code",
      "metadata": {
        "id": "fpoEDs922oyt"
      },
      "source": [
        ""
      ],
      "execution_count": null,
      "outputs": []
    }
  ]
}